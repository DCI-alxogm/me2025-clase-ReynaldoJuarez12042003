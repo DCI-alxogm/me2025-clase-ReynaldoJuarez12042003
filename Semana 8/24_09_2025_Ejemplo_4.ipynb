{
  "nbformat": 4,
  "nbformat_minor": 0,
  "metadata": {
    "colab": {
      "provenance": [],
      "authorship_tag": "ABX9TyM/wO9arX7Pc/DiyxQjfIh8",
      "include_colab_link": true
    },
    "kernelspec": {
      "name": "python3",
      "display_name": "Python 3"
    },
    "language_info": {
      "name": "python"
    }
  },
  "cells": [
    {
      "cell_type": "markdown",
      "metadata": {
        "id": "view-in-github",
        "colab_type": "text"
      },
      "source": [
        "<a href=\"https://colab.research.google.com/github/DCI-alxogm/me2025-clase-ReynaldoJuarez12042003/blob/main/Semana%208/24_09_2025_Ejemplo_4.ipynb\" target=\"_parent\"><img src=\"https://colab.research.google.com/assets/colab-badge.svg\" alt=\"Open In Colab\"/></a>"
      ]
    },
    {
      "cell_type": "code",
      "execution_count": 1,
      "metadata": {
        "id": "0GymNaJ9RSAk"
      },
      "outputs": [],
      "source": [
        "import scipy as sp\n",
        "import matplotlib.pyplot as plt\n",
        "import numpy as np\n",
        "import math\n",
        "\n",
        "f=lambda x: x**3-5*x**2+7*x-3\n",
        "df=lambda x: 3*x**2-10*x+7\n",
        "d2f=lambda x:6*x-10\n"
      ]
    },
    {
      "cell_type": "code",
      "source": [
        "#Secante\n",
        "sp.optimize.root_scalar(f,x0=3.5,method='secant',rtol=0.1)"
      ],
      "metadata": {
        "colab": {
          "base_uri": "https://localhost:8080/"
        },
        "id": "d5l5H_OIbVmC",
        "outputId": "78762bfd-fb0c-4090-9f1c-68e518ed7c4c"
      },
      "execution_count": 8,
      "outputs": [
        {
          "output_type": "execute_result",
          "data": {
            "text/plain": [
              "      converged: True\n",
              "           flag: converged\n",
              " function_calls: 3\n",
              "     iterations: 2\n",
              "           root: 3.048033860946541\n",
              "         method: secant"
            ]
          },
          "metadata": {},
          "execution_count": 8
        }
      ]
    },
    {
      "cell_type": "code",
      "source": [
        "#Newton\n",
        "sp.optimize.root_scalar(f,x0=3.5,method='newton',rtol=0.1)"
      ],
      "metadata": {
        "colab": {
          "base_uri": "https://localhost:8080/"
        },
        "id": "zulOy8RNbrl0",
        "outputId": "805ede4c-4a83-40f4-d9ba-3dbf7d670931"
      },
      "execution_count": 9,
      "outputs": [
        {
          "output_type": "execute_result",
          "data": {
            "text/plain": [
              "      converged: True\n",
              "           flag: converged\n",
              " function_calls: 4\n",
              "     iterations: 2\n",
              "           root: 3.0168067336528432\n",
              "         method: newton"
            ]
          },
          "metadata": {},
          "execution_count": 9
        }
      ]
    },
    {
      "cell_type": "code",
      "source": [
        "#Biseccion\n",
        "sp.optimize.root_scalar(f,bracket=[2.5,3.5],method='bisect',rtol=0.1)"
      ],
      "metadata": {
        "colab": {
          "base_uri": "https://localhost:8080/"
        },
        "id": "d7sEEVMHbyql",
        "outputId": "4c742f2f-323c-4fbb-81e3-fe4205dcb057"
      },
      "execution_count": 10,
      "outputs": [
        {
          "output_type": "execute_result",
          "data": {
            "text/plain": [
              "      converged: True\n",
              "           flag: converged\n",
              " function_calls: 3\n",
              "     iterations: 1\n",
              "           root: 3.0\n",
              "         method: bisect"
            ]
          },
          "metadata": {},
          "execution_count": 10
        }
      ]
    },
    {
      "cell_type": "code",
      "source": [
        "#Falsa posicion\n",
        "sp.optimize.root_scalar(f,bracket=[2.5,3.5],method='brentq',rtol=0.1)"
      ],
      "metadata": {
        "colab": {
          "base_uri": "https://localhost:8080/"
        },
        "id": "aoDXluZHb4_v",
        "outputId": "8d1f8b8c-47a4-49ad-adc6-13dd076637fc"
      },
      "execution_count": 11,
      "outputs": [
        {
          "output_type": "execute_result",
          "data": {
            "text/plain": [
              "      converged: True\n",
              "           flag: converged\n",
              " function_calls: 5\n",
              "     iterations: 4\n",
              "           root: 2.959394866897934\n",
              "         method: brentq"
            ]
          },
          "metadata": {},
          "execution_count": 11
        }
      ]
    },
    {
      "cell_type": "code",
      "source": [
        "#Newton Raphson modificado\n",
        "sp.optimize.root_scalar(f, x0=3.5, fprime=df, fprime2=d2f,method='newton', rtol=0.1)"
      ],
      "metadata": {
        "colab": {
          "base_uri": "https://localhost:8080/"
        },
        "id": "wtftUG_NcCRa",
        "outputId": "e691e162-9ec9-487e-dba8-c47a25557d2a"
      },
      "execution_count": 15,
      "outputs": [
        {
          "output_type": "execute_result",
          "data": {
            "text/plain": [
              "      converged: True\n",
              "           flag: converged\n",
              " function_calls: 4\n",
              "     iterations: 2\n",
              "           root: 3.016806722689075\n",
              "         method: newton"
            ]
          },
          "metadata": {},
          "execution_count": 15
        }
      ]
    }
  ]
}