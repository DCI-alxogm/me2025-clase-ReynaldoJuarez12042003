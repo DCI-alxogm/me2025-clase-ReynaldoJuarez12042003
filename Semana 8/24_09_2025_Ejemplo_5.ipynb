{
  "nbformat": 4,
  "nbformat_minor": 0,
  "metadata": {
    "colab": {
      "provenance": [],
      "authorship_tag": "ABX9TyP1n5kLMRmVcJq0WvJVGI7d",
      "include_colab_link": true
    },
    "kernelspec": {
      "name": "python3",
      "display_name": "Python 3"
    },
    "language_info": {
      "name": "python"
    }
  },
  "cells": [
    {
      "cell_type": "markdown",
      "metadata": {
        "id": "view-in-github",
        "colab_type": "text"
      },
      "source": [
        "<a href=\"https://colab.research.google.com/github/DCI-alxogm/me2025-clase-ReynaldoJuarez12042003/blob/main/Semana%208/24_09_2025_Ejemplo_5.ipynb\" target=\"_parent\"><img src=\"https://colab.research.google.com/assets/colab-badge.svg\" alt=\"Open In Colab\"/></a>"
      ]
    },
    {
      "cell_type": "code",
      "execution_count": null,
      "metadata": {
        "id": "KM4g5jijch58"
      },
      "outputs": [],
      "source": [
        "import scipy as sp\n",
        "import matplotlib.pyplot as plt\n",
        "import numpy as np\n",
        "import math\n",
        "\n",
        "f=lambda x: (x**10)-1\n",
        "df=lambda x: 10*x**9\n",
        "d2f=lambda x:90*x**8"
      ]
    },
    {
      "cell_type": "code",
      "source": [
        "#Secante\n",
        "sp.optimize.root_scalar(f,x0=0.5,method='secant',rtol=0.000001)"
      ],
      "metadata": {
        "colab": {
          "base_uri": "https://localhost:8080/"
        },
        "id": "bmzUxrsUdJyw",
        "outputId": "1e751c46-241b-4180-9a09-1a926afeaafe"
      },
      "execution_count": null,
      "outputs": [
        {
          "output_type": "execute_result",
          "data": {
            "text/plain": [
              "      converged: True\n",
              "           flag: converged\n",
              " function_calls: 4\n",
              "     iterations: 3\n",
              "           root: 0.5000000000000007\n",
              "         method: secant"
            ]
          },
          "metadata": {},
          "execution_count": 24
        }
      ]
    },
    {
      "cell_type": "code",
      "source": [
        "#Newton\n",
        "sp.optimize.root_scalar(f,x0=0.5,method='newton',rtol=0.000001)"
      ],
      "metadata": {
        "colab": {
          "base_uri": "https://localhost:8080/"
        },
        "id": "W5aBVOkYd4Qw",
        "outputId": "a67bf4d2-a793-42bd-edf8-0780903e6671"
      },
      "execution_count": null,
      "outputs": [
        {
          "output_type": "execute_result",
          "data": {
            "text/plain": [
              "      converged: True\n",
              "           flag: converged\n",
              " function_calls: 86\n",
              "     iterations: 43\n",
              "           root: 1.0000000000000002\n",
              "         method: newton"
            ]
          },
          "metadata": {},
          "execution_count": 26
        }
      ]
    },
    {
      "cell_type": "code",
      "source": [
        "#Biseccion\n",
        "sp.optimize.root_scalar(f,bracket=[0,1.5],method='bisect',rtol=0.000001)"
      ],
      "metadata": {
        "colab": {
          "base_uri": "https://localhost:8080/"
        },
        "id": "pQzjBqxFfAu5",
        "outputId": "c0cad937-8c78-4101-ed31-382d7d076ad0"
      },
      "execution_count": null,
      "outputs": [
        {
          "output_type": "execute_result",
          "data": {
            "text/plain": [
              "      converged: True\n",
              "           flag: converged\n",
              " function_calls: 23\n",
              "     iterations: 21\n",
              "           root: 0.9999997615814209\n",
              "         method: bisect"
            ]
          },
          "metadata": {},
          "execution_count": 28
        }
      ]
    },
    {
      "cell_type": "code",
      "source": [
        "#Falsa posicion\n",
        "sp.optimize.root_scalar(f,bracket=[0,1.5],method='brentq',rtol=0.000001)"
      ],
      "metadata": {
        "colab": {
          "base_uri": "https://localhost:8080/"
        },
        "id": "-sA1FhuVfL37",
        "outputId": "8f99afdf-98bc-460a-c690-679aa7e5c8b5"
      },
      "execution_count": null,
      "outputs": [
        {
          "output_type": "execute_result",
          "data": {
            "text/plain": [
              "      converged: True\n",
              "           flag: converged\n",
              " function_calls: 11\n",
              "     iterations: 10\n",
              "           root: 0.999999974529784\n",
              "         method: brentq"
            ]
          },
          "metadata": {},
          "execution_count": 29
        }
      ]
    },
    {
      "cell_type": "code",
      "source": [
        "#Newton Raphson modificado\n",
        "sp.optimize.root_scalar(f, x0=0.5, fprime=df, fprime2=d2f,method='newton', rtol=0.000001)"
      ],
      "metadata": {
        "colab": {
          "base_uri": "https://localhost:8080/"
        },
        "id": "GNs2fZiofR3l",
        "outputId": "75f5f07e-603f-473c-ddea-8d0023430398"
      },
      "execution_count": null,
      "outputs": [
        {
          "output_type": "execute_result",
          "data": {
            "text/plain": [
              "      converged: True\n",
              "           flag: converged\n",
              " function_calls: 86\n",
              "     iterations: 43\n",
              "           root: 1.0\n",
              "         method: newton"
            ]
          },
          "metadata": {},
          "execution_count": 30
        }
      ]
    }
  ]
}