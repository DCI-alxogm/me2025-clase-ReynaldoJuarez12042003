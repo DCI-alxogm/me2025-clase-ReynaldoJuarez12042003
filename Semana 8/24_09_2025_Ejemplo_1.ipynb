{
  "nbformat": 4,
  "nbformat_minor": 0,
  "metadata": {
    "colab": {
      "provenance": [],
      "include_colab_link": true
    },
    "kernelspec": {
      "name": "python3",
      "display_name": "Python 3"
    },
    "language_info": {
      "name": "python"
    }
  },
  "cells": [
    {
      "cell_type": "markdown",
      "metadata": {
        "id": "view-in-github",
        "colab_type": "text"
      },
      "source": [
        "<a href=\"https://colab.research.google.com/github/DCI-alxogm/me2025-clase-ReynaldoJuarez12042003/blob/main/Semana%208/24_09_2025_Ejemplo_1.ipynb\" target=\"_parent\"><img src=\"https://colab.research.google.com/assets/colab-badge.svg\" alt=\"Open In Colab\"/></a>"
      ]
    },
    {
      "cell_type": "code",
      "execution_count": null,
      "metadata": {
        "id": "Priy5slu1X_t"
      },
      "outputs": [],
      "source": [
        "import scipy as sp\n",
        "import matplotlib.pyplot as plt\n",
        "import numpy as np\n",
        "import math"
      ]
    },
    {
      "cell_type": "code",
      "source": [
        "f=lambda x:x**2-1\n",
        "df=lambda x:2*x\n",
        "d2f=lambda x: 2"
      ],
      "metadata": {
        "id": "W1shHy6X2Iv0"
      },
      "execution_count": null,
      "outputs": []
    },
    {
      "cell_type": "code",
      "source": [
        "f(2)"
      ],
      "metadata": {
        "colab": {
          "base_uri": "https://localhost:8080/"
        },
        "id": "771XkF4c2bq0",
        "outputId": "f8309f01-2eb5-445c-dc99-44a4992ee348"
      },
      "execution_count": null,
      "outputs": [
        {
          "output_type": "execute_result",
          "data": {
            "text/plain": [
              "3"
            ]
          },
          "metadata": {},
          "execution_count": 3
        }
      ]
    },
    {
      "cell_type": "code",
      "source": [
        "sp.optimize.bisect(f,0,2)"
      ],
      "metadata": {
        "colab": {
          "base_uri": "https://localhost:8080/"
        },
        "id": "HwuvZgZO4pBu",
        "outputId": "baf2225f-edb5-483e-f30e-69e5e6abb994"
      },
      "execution_count": null,
      "outputs": [
        {
          "output_type": "execute_result",
          "data": {
            "text/plain": [
              "1.0"
            ]
          },
          "metadata": {},
          "execution_count": 4
        }
      ]
    },
    {
      "cell_type": "code",
      "source": [
        "sp.optimize.newton(f,0)"
      ],
      "metadata": {
        "colab": {
          "base_uri": "https://localhost:8080/"
        },
        "id": "ytPLKyyA4spt",
        "outputId": "dbd50202-c6af-4489-925f-eb8183810c1f"
      },
      "execution_count": null,
      "outputs": [
        {
          "output_type": "execute_result",
          "data": {
            "text/plain": [
              "np.float64(1.0)"
            ]
          },
          "metadata": {},
          "execution_count": 5
        }
      ]
    },
    {
      "cell_type": "code",
      "source": [
        "#Secante\n",
        "sp.optimize.root_scalar(f,x0=0.5,method='secant',rtol=0.1)\n"
      ],
      "metadata": {
        "colab": {
          "base_uri": "https://localhost:8080/"
        },
        "id": "8yfALc7A4vxB",
        "outputId": "c2b18c19-eb77-4573-fa61-504464df4c5c"
      },
      "execution_count": null,
      "outputs": [
        {
          "output_type": "execute_result",
          "data": {
            "text/plain": [
              "      converged: True\n",
              "           flag: converged\n",
              " function_calls: 4\n",
              "     iterations: 3\n",
              "           root: 0.9918098072536367\n",
              "         method: secant"
            ]
          },
          "metadata": {},
          "execution_count": 6
        }
      ]
    },
    {
      "cell_type": "code",
      "source": [
        "\n",
        "limits=np.asarray([0,1])\n",
        "limits"
      ],
      "metadata": {
        "id": "cFnY4FXa5o-B",
        "colab": {
          "base_uri": "https://localhost:8080/"
        },
        "outputId": "fca7c945-7ecf-4300-f0a7-30c2dfd87293"
      },
      "execution_count": null,
      "outputs": [
        {
          "output_type": "execute_result",
          "data": {
            "text/plain": [
              "array([0, 1])"
            ]
          },
          "metadata": {},
          "execution_count": 7
        }
      ]
    },
    {
      "cell_type": "code",
      "source": [
        "#Newton\n",
        "sp.optimize.root_scalar(f,x0=0,method='newton',rtol=0.1)"
      ],
      "metadata": {
        "colab": {
          "base_uri": "https://localhost:8080/"
        },
        "id": "h8fAj4qU7mdT",
        "outputId": "367cba56-2362-479c-d2dc-129d3b17d4e1"
      },
      "execution_count": null,
      "outputs": [
        {
          "output_type": "execute_result",
          "data": {
            "text/plain": [
              "      converged: True\n",
              "           flag: converged\n",
              " function_calls: 58\n",
              "     iterations: 29\n",
              "           root: 1.0006711518155886\n",
              "         method: newton"
            ]
          },
          "metadata": {},
          "execution_count": 8
        }
      ]
    },
    {
      "cell_type": "code",
      "source": [
        "#Biseccion\n",
        "sp.optimize.root_scalar(f,bracket=[0,1],method='bisect',rtol=0.1)"
      ],
      "metadata": {
        "colab": {
          "base_uri": "https://localhost:8080/"
        },
        "id": "p4HDfGtI_jCD",
        "outputId": "6192364b-a6b4-4722-8baf-34d809eaa29b"
      },
      "execution_count": null,
      "outputs": [
        {
          "output_type": "execute_result",
          "data": {
            "text/plain": [
              "      converged: True\n",
              "           flag: converged\n",
              " function_calls: 2\n",
              "     iterations: 1\n",
              "           root: 1.0\n",
              "         method: bisect"
            ]
          },
          "metadata": {},
          "execution_count": 9
        }
      ]
    },
    {
      "cell_type": "code",
      "source": [
        "#Falsa posicion\n",
        "sp.optimize.root_scalar(f,bracket=[0,2],method='brentq',rtol=0.1)"
      ],
      "metadata": {
        "colab": {
          "base_uri": "https://localhost:8080/"
        },
        "id": "ok6f80GfC4cJ",
        "outputId": "ebeed329-0df0-4de0-e868-8d72ac92daed"
      },
      "execution_count": null,
      "outputs": [
        {
          "output_type": "execute_result",
          "data": {
            "text/plain": [
              "      converged: True\n",
              "           flag: converged\n",
              " function_calls: 7\n",
              "     iterations: 6\n",
              "           root: 0.9918032786885246\n",
              "         method: brentq"
            ]
          },
          "metadata": {},
          "execution_count": 10
        }
      ]
    },
    {
      "cell_type": "code",
      "source": [
        "#Newton Rhapson Modificado\n",
        "sp.optimize.root_scalar(f, x0=0.1, fprime=df, fprime2=d2f,method='newton', rtol=0.1)"
      ],
      "metadata": {
        "colab": {
          "base_uri": "https://localhost:8080/"
        },
        "id": "YG5KWnftIwAo",
        "outputId": "807b5bf0-c4b1-4fe4-cf9c-526da0fa3474"
      },
      "execution_count": null,
      "outputs": [
        {
          "output_type": "execute_result",
          "data": {
            "text/plain": [
              "      converged: True\n",
              "           flag: converged\n",
              " function_calls: 10\n",
              "     iterations: 5\n",
              "           root: 1.0032578510960606\n",
              "         method: newton"
            ]
          },
          "metadata": {},
          "execution_count": 30
        }
      ]
    }
  ]
}