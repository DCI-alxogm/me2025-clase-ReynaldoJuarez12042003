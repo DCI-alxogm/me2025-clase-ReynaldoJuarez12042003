{
  "nbformat": 4,
  "nbformat_minor": 0,
  "metadata": {
    "colab": {
      "provenance": [],
      "authorship_tag": "ABX9TyNpsy0cxHPUDWLYseo9obRl",
      "include_colab_link": true
    },
    "kernelspec": {
      "name": "python3",
      "display_name": "Python 3"
    },
    "language_info": {
      "name": "python"
    }
  },
  "cells": [
    {
      "cell_type": "markdown",
      "metadata": {
        "id": "view-in-github",
        "colab_type": "text"
      },
      "source": [
        "<a href=\"https://colab.research.google.com/github/DCI-alxogm/me2025-clase-ReynaldoJuarez12042003/blob/main/Semana%208/24_09_2025_Ejemplo_2.ipynb\" target=\"_parent\"><img src=\"https://colab.research.google.com/assets/colab-badge.svg\" alt=\"Open In Colab\"/></a>"
      ]
    },
    {
      "cell_type": "code",
      "execution_count": 3,
      "metadata": {
        "id": "0GymNaJ9RSAk"
      },
      "outputs": [],
      "source": [
        "import scipy as sp\n",
        "import matplotlib.pyplot as plt\n",
        "import numpy as np\n",
        "import math\n",
        "\n",
        "f=lambda x: np.exp(-x)-x\n",
        "df=lambda x: -np.exp(-x)-1\n",
        "d2f=lambda x:1/np.exp(x)\n"
      ]
    },
    {
      "cell_type": "code",
      "source": [
        "#Secante\n",
        "sp.optimize.root_scalar(f,x0=0,method='secant',rtol=0.000001)"
      ],
      "metadata": {
        "colab": {
          "base_uri": "https://localhost:8080/"
        },
        "id": "X9EQKyHlRcNa",
        "outputId": "f9277df6-d7b8-415a-a969-83640198a61b"
      },
      "execution_count": 9,
      "outputs": [
        {
          "output_type": "execute_result",
          "data": {
            "text/plain": [
              "      converged: True\n",
              "           flag: converged\n",
              " function_calls: 6\n",
              "     iterations: 5\n",
              "           root: 0.5671432904076754\n",
              "         method: secant"
            ]
          },
          "metadata": {},
          "execution_count": 9
        }
      ]
    },
    {
      "cell_type": "code",
      "source": [
        "#Newton\n",
        "sp.optimize.root_scalar(f,x0=0,method='newton',rtol=0.000001)"
      ],
      "metadata": {
        "colab": {
          "base_uri": "https://localhost:8080/"
        },
        "id": "1g5F_BMlTpZK",
        "outputId": "e7cd8730-62e4-423b-fd2b-edb0c6e81a47"
      },
      "execution_count": 10,
      "outputs": [
        {
          "output_type": "execute_result",
          "data": {
            "text/plain": [
              "      converged: True\n",
              "           flag: converged\n",
              " function_calls: 8\n",
              "     iterations: 4\n",
              "           root: 0.5671432904097813\n",
              "         method: newton"
            ]
          },
          "metadata": {},
          "execution_count": 10
        }
      ]
    },
    {
      "cell_type": "code",
      "source": [
        "#Biseccion\n",
        "sp.optimize.root_scalar(f,bracket=[0,1],method='bisect',rtol=0.000001)"
      ],
      "metadata": {
        "colab": {
          "base_uri": "https://localhost:8080/"
        },
        "id": "RWW3vCmeTwLh",
        "outputId": "f278e7c9-0adf-4fc8-c879-682a6eff2b0e"
      },
      "execution_count": 11,
      "outputs": [
        {
          "output_type": "execute_result",
          "data": {
            "text/plain": [
              "      converged: True\n",
              "           flag: converged\n",
              " function_calls: 23\n",
              "     iterations: 21\n",
              "           root: 0.5671429634094238\n",
              "         method: bisect"
            ]
          },
          "metadata": {},
          "execution_count": 11
        }
      ]
    },
    {
      "cell_type": "code",
      "source": [
        "#Falsa posicion\n",
        "sp.optimize.root_scalar(f,bracket=[0,1],method='brentq',rtol=0.000001)"
      ],
      "metadata": {
        "colab": {
          "base_uri": "https://localhost:8080/"
        },
        "id": "7BrpVQ2MUKaf",
        "outputId": "105592e2-fff8-4f66-8905-a4833bf2dabc"
      },
      "execution_count": 12,
      "outputs": [
        {
          "output_type": "execute_result",
          "data": {
            "text/plain": [
              "      converged: True\n",
              "           flag: converged\n",
              " function_calls: 7\n",
              "     iterations: 6\n",
              "           root: 0.5671432904178182\n",
              "         method: brentq"
            ]
          },
          "metadata": {},
          "execution_count": 12
        }
      ]
    },
    {
      "cell_type": "code",
      "source": [
        "#Newton Raphson modificado\n",
        "sp.optimize.root_scalar(f, x0=0.1, fprime=df, fprime2=d2f,method='newton', rtol=0.000001)"
      ],
      "metadata": {
        "colab": {
          "base_uri": "https://localhost:8080/"
        },
        "id": "P6EUgF71UWfE",
        "outputId": "8aee026f-f7ff-47a3-ce00-39637e63c72a"
      },
      "execution_count": 13,
      "outputs": [
        {
          "output_type": "execute_result",
          "data": {
            "text/plain": [
              "      converged: True\n",
              "           flag: converged\n",
              " function_calls: 8\n",
              "     iterations: 4\n",
              "           root: 0.5671432904097837\n",
              "         method: newton"
            ]
          },
          "metadata": {},
          "execution_count": 13
        }
      ]
    }
  ]
}