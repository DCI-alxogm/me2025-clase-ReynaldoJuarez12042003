{
  "nbformat": 4,
  "nbformat_minor": 0,
  "metadata": {
    "colab": {
      "provenance": [],
      "authorship_tag": "ABX9TyMrNBszQfsEwCFQIhiSfzOp",
      "include_colab_link": true
    },
    "kernelspec": {
      "name": "python3",
      "display_name": "Python 3"
    },
    "language_info": {
      "name": "python"
    }
  },
  "cells": [
    {
      "cell_type": "markdown",
      "metadata": {
        "id": "view-in-github",
        "colab_type": "text"
      },
      "source": [
        "<a href=\"https://colab.research.google.com/github/DCI-alxogm/me2025-clase-ReynaldoJuarez12042003/blob/main/Semana%208/24_09_2025_Ejemplo_3.ipynb\" target=\"_parent\"><img src=\"https://colab.research.google.com/assets/colab-badge.svg\" alt=\"Open In Colab\"/></a>"
      ]
    },
    {
      "cell_type": "code",
      "execution_count": null,
      "metadata": {
        "id": "HfJN5l04UzMm"
      },
      "outputs": [],
      "source": [
        "import scipy as sp\n",
        "import matplotlib.pyplot as plt\n",
        "import numpy as np\n",
        "import math\n",
        "\n",
        "f=lambda x:math.sin(10*x)-math.cos(3*x)\n",
        "df=lambda x: 10*math.cos(10*x)+3*math.sin(3*x)\n",
        "d2f=lambda x: -100*math.sin(10*x)+9*math.cos(3*x)"
      ]
    },
    {
      "cell_type": "code",
      "source": [
        "#Secante\n",
        "sp.optimize.root_scalar(f,x0=0,method='secant',rtol=0.1)"
      ],
      "metadata": {
        "colab": {
          "base_uri": "https://localhost:8080/"
        },
        "id": "jOEYD_WuW2A5",
        "outputId": "e7e70c65-f7c1-42a0-c3aa-2061cf4ce020"
      },
      "execution_count": null,
      "outputs": [
        {
          "output_type": "execute_result",
          "data": {
            "text/plain": [
              "      converged: True\n",
              "           flag: converged\n",
              " function_calls: 4\n",
              "     iterations: 3\n",
              "           root: 0.11966598338234823\n",
              "         method: secant"
            ]
          },
          "metadata": {},
          "execution_count": 11
        }
      ]
    },
    {
      "cell_type": "code",
      "source": [
        "#Newton\n",
        "sp.optimize.root_scalar(f,x0=0,method='newton',rtol=0.1)"
      ],
      "metadata": {
        "colab": {
          "base_uri": "https://localhost:8080/"
        },
        "id": "B9rLk6MhX5vg",
        "outputId": "6c9a1315-6d42-4fb9-e21d-c43bb822aa77"
      },
      "execution_count": null,
      "outputs": [
        {
          "output_type": "execute_result",
          "data": {
            "text/plain": [
              "      converged: True\n",
              "           flag: converged\n",
              " function_calls: 6\n",
              "     iterations: 3\n",
              "           root: 0.12076566471719219\n",
              "         method: newton"
            ]
          },
          "metadata": {},
          "execution_count": 8
        }
      ]
    },
    {
      "cell_type": "code",
      "source": [
        "#Biseccion\n",
        "sp.optimize.root_scalar(f,bracket=[0.,0.15],method='bisect',rtol=0.1)"
      ],
      "metadata": {
        "colab": {
          "base_uri": "https://localhost:8080/"
        },
        "id": "O4jjGFu0X91X",
        "outputId": "5bbf446a-4b2b-4804-86a8-54545da27124"
      },
      "execution_count": null,
      "outputs": [
        {
          "output_type": "execute_result",
          "data": {
            "text/plain": [
              "      converged: True\n",
              "           flag: converged\n",
              " function_calls: 6\n",
              "     iterations: 4\n",
              "           root: 0.12187499999999998\n",
              "         method: bisect"
            ]
          },
          "metadata": {},
          "execution_count": 10
        }
      ]
    },
    {
      "cell_type": "code",
      "source": [
        "#Falsa posicion\n",
        "sp.optimize.root_scalar(f,bracket=[0,0.15],method='brentq',rtol=0.1)"
      ],
      "metadata": {
        "colab": {
          "base_uri": "https://localhost:8080/"
        },
        "id": "1cJbgTnoZU8k",
        "outputId": "1acbad2b-d738-4763-fab6-1b402c6549cd"
      },
      "execution_count": null,
      "outputs": [
        {
          "output_type": "execute_result",
          "data": {
            "text/plain": [
              "      converged: True\n",
              "           flag: converged\n",
              " function_calls: 5\n",
              "     iterations: 4\n",
              "           root: 0.12189242192425566\n",
              "         method: brentq"
            ]
          },
          "metadata": {},
          "execution_count": 12
        }
      ]
    },
    {
      "cell_type": "code",
      "source": [
        "#Newton Raphson modificado\n",
        "sp.optimize.root_scalar(f, x0=0.1, fprime=df, fprime2=d2f,method='newton', rtol=0.1)"
      ],
      "metadata": {
        "id": "vSajgYI4Zb27",
        "outputId": "6a29613c-4859-4b9f-aae4-b03757b361d2",
        "colab": {
          "base_uri": "https://localhost:8080/"
        }
      },
      "execution_count": null,
      "outputs": [
        {
          "output_type": "execute_result",
          "data": {
            "text/plain": [
              "      converged: True\n",
              "           flag: converged\n",
              " function_calls: 4\n",
              "     iterations: 2\n",
              "           root: 0.1207656643089307\n",
              "         method: newton"
            ]
          },
          "metadata": {},
          "execution_count": 13
        }
      ]
    }
  ]
}