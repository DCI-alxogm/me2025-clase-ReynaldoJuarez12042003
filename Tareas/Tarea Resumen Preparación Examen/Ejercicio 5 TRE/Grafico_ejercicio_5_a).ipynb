{
  "nbformat": 4,
  "nbformat_minor": 0,
  "metadata": {
    "colab": {
      "provenance": [],
      "authorship_tag": "ABX9TyMHUxXl548blG7B8Yi/LhCh",
      "include_colab_link": true
    },
    "kernelspec": {
      "name": "python3",
      "display_name": "Python 3"
    },
    "language_info": {
      "name": "python"
    }
  },
  "cells": [
    {
      "cell_type": "markdown",
      "metadata": {
        "id": "view-in-github",
        "colab_type": "text"
      },
      "source": [
        "<a href=\"https://colab.research.google.com/github/DCI-alxogm/me2025-clase-ReynaldoJuarez12042003/blob/main/Tareas/Tarea%20Resumen%20Preparaci%C3%B3n%20Examen/Ejercicio%205%20TRE/Grafico_ejercicio_5_a).ipynb\" target=\"_parent\"><img src=\"https://colab.research.google.com/assets/colab-badge.svg\" alt=\"Open In Colab\"/></a>"
      ]
    },
    {
      "cell_type": "code",
      "execution_count": 1,
      "metadata": {
        "id": "mpgojnyt2hqj"
      },
      "outputs": [],
      "source": [
        "import numpy as np\n",
        "import matplotlib.pyplot as plt"
      ]
    },
    {
      "cell_type": "code",
      "source": [
        "fx =lambda x: (-0.5*x**2)+(2.5*x)+4.5"
      ],
      "metadata": {
        "id": "w97FuJ0U3FHo"
      },
      "execution_count": 2,
      "outputs": []
    },
    {
      "cell_type": "code",
      "source": [
        "x=np.linspace(-2,7,500)\n",
        "x"
      ],
      "metadata": {
        "colab": {
          "base_uri": "https://localhost:8080/"
        },
        "id": "Jr9_SO3A5vxd",
        "outputId": "3c116556-03d9-4b2b-d4bc-099e4e7eac5c"
      },
      "execution_count": 13,
      "outputs": [
        {
          "output_type": "execute_result",
          "data": {
            "text/plain": [
              "array([-2.00000000e+00, -1.98196393e+00, -1.96392786e+00, -1.94589178e+00,\n",
              "       -1.92785571e+00, -1.90981964e+00, -1.89178357e+00, -1.87374749e+00,\n",
              "       -1.85571142e+00, -1.83767535e+00, -1.81963928e+00, -1.80160321e+00,\n",
              "       -1.78356713e+00, -1.76553106e+00, -1.74749499e+00, -1.72945892e+00,\n",
              "       -1.71142285e+00, -1.69338677e+00, -1.67535070e+00, -1.65731463e+00,\n",
              "       -1.63927856e+00, -1.62124248e+00, -1.60320641e+00, -1.58517034e+00,\n",
              "       -1.56713427e+00, -1.54909820e+00, -1.53106212e+00, -1.51302605e+00,\n",
              "       -1.49498998e+00, -1.47695391e+00, -1.45891784e+00, -1.44088176e+00,\n",
              "       -1.42284569e+00, -1.40480962e+00, -1.38677355e+00, -1.36873747e+00,\n",
              "       -1.35070140e+00, -1.33266533e+00, -1.31462926e+00, -1.29659319e+00,\n",
              "       -1.27855711e+00, -1.26052104e+00, -1.24248497e+00, -1.22444890e+00,\n",
              "       -1.20641283e+00, -1.18837675e+00, -1.17034068e+00, -1.15230461e+00,\n",
              "       -1.13426854e+00, -1.11623246e+00, -1.09819639e+00, -1.08016032e+00,\n",
              "       -1.06212425e+00, -1.04408818e+00, -1.02605210e+00, -1.00801603e+00,\n",
              "       -9.89979960e-01, -9.71943888e-01, -9.53907816e-01, -9.35871743e-01,\n",
              "       -9.17835671e-01, -8.99799599e-01, -8.81763527e-01, -8.63727455e-01,\n",
              "       -8.45691383e-01, -8.27655311e-01, -8.09619238e-01, -7.91583166e-01,\n",
              "       -7.73547094e-01, -7.55511022e-01, -7.37474950e-01, -7.19438878e-01,\n",
              "       -7.01402806e-01, -6.83366733e-01, -6.65330661e-01, -6.47294589e-01,\n",
              "       -6.29258517e-01, -6.11222445e-01, -5.93186373e-01, -5.75150301e-01,\n",
              "       -5.57114228e-01, -5.39078156e-01, -5.21042084e-01, -5.03006012e-01,\n",
              "       -4.84969940e-01, -4.66933868e-01, -4.48897796e-01, -4.30861723e-01,\n",
              "       -4.12825651e-01, -3.94789579e-01, -3.76753507e-01, -3.58717435e-01,\n",
              "       -3.40681363e-01, -3.22645291e-01, -3.04609218e-01, -2.86573146e-01,\n",
              "       -2.68537074e-01, -2.50501002e-01, -2.32464930e-01, -2.14428858e-01,\n",
              "       -1.96392786e-01, -1.78356713e-01, -1.60320641e-01, -1.42284569e-01,\n",
              "       -1.24248497e-01, -1.06212425e-01, -8.81763527e-02, -7.01402806e-02,\n",
              "       -5.21042084e-02, -3.40681363e-02, -1.60320641e-02,  2.00400802e-03,\n",
              "        2.00400802e-02,  3.80761523e-02,  5.61122244e-02,  7.41482966e-02,\n",
              "        9.21843687e-02,  1.10220441e-01,  1.28256513e-01,  1.46292585e-01,\n",
              "        1.64328657e-01,  1.82364729e-01,  2.00400802e-01,  2.18436874e-01,\n",
              "        2.36472946e-01,  2.54509018e-01,  2.72545090e-01,  2.90581162e-01,\n",
              "        3.08617234e-01,  3.26653307e-01,  3.44689379e-01,  3.62725451e-01,\n",
              "        3.80761523e-01,  3.98797595e-01,  4.16833667e-01,  4.34869739e-01,\n",
              "        4.52905812e-01,  4.70941884e-01,  4.88977956e-01,  5.07014028e-01,\n",
              "        5.25050100e-01,  5.43086172e-01,  5.61122244e-01,  5.79158317e-01,\n",
              "        5.97194389e-01,  6.15230461e-01,  6.33266533e-01,  6.51302605e-01,\n",
              "        6.69338677e-01,  6.87374749e-01,  7.05410822e-01,  7.23446894e-01,\n",
              "        7.41482966e-01,  7.59519038e-01,  7.77555110e-01,  7.95591182e-01,\n",
              "        8.13627255e-01,  8.31663327e-01,  8.49699399e-01,  8.67735471e-01,\n",
              "        8.85771543e-01,  9.03807615e-01,  9.21843687e-01,  9.39879760e-01,\n",
              "        9.57915832e-01,  9.75951904e-01,  9.93987976e-01,  1.01202405e+00,\n",
              "        1.03006012e+00,  1.04809619e+00,  1.06613226e+00,  1.08416834e+00,\n",
              "        1.10220441e+00,  1.12024048e+00,  1.13827655e+00,  1.15631263e+00,\n",
              "        1.17434870e+00,  1.19238477e+00,  1.21042084e+00,  1.22845691e+00,\n",
              "        1.24649299e+00,  1.26452906e+00,  1.28256513e+00,  1.30060120e+00,\n",
              "        1.31863727e+00,  1.33667335e+00,  1.35470942e+00,  1.37274549e+00,\n",
              "        1.39078156e+00,  1.40881764e+00,  1.42685371e+00,  1.44488978e+00,\n",
              "        1.46292585e+00,  1.48096192e+00,  1.49899800e+00,  1.51703407e+00,\n",
              "        1.53507014e+00,  1.55310621e+00,  1.57114228e+00,  1.58917836e+00,\n",
              "        1.60721443e+00,  1.62525050e+00,  1.64328657e+00,  1.66132265e+00,\n",
              "        1.67935872e+00,  1.69739479e+00,  1.71543086e+00,  1.73346693e+00,\n",
              "        1.75150301e+00,  1.76953908e+00,  1.78757515e+00,  1.80561122e+00,\n",
              "        1.82364729e+00,  1.84168337e+00,  1.85971944e+00,  1.87775551e+00,\n",
              "        1.89579158e+00,  1.91382766e+00,  1.93186373e+00,  1.94989980e+00,\n",
              "        1.96793587e+00,  1.98597194e+00,  2.00400802e+00,  2.02204409e+00,\n",
              "        2.04008016e+00,  2.05811623e+00,  2.07615230e+00,  2.09418838e+00,\n",
              "        2.11222445e+00,  2.13026052e+00,  2.14829659e+00,  2.16633267e+00,\n",
              "        2.18436874e+00,  2.20240481e+00,  2.22044088e+00,  2.23847695e+00,\n",
              "        2.25651303e+00,  2.27454910e+00,  2.29258517e+00,  2.31062124e+00,\n",
              "        2.32865731e+00,  2.34669339e+00,  2.36472946e+00,  2.38276553e+00,\n",
              "        2.40080160e+00,  2.41883768e+00,  2.43687375e+00,  2.45490982e+00,\n",
              "        2.47294589e+00,  2.49098196e+00,  2.50901804e+00,  2.52705411e+00,\n",
              "        2.54509018e+00,  2.56312625e+00,  2.58116232e+00,  2.59919840e+00,\n",
              "        2.61723447e+00,  2.63527054e+00,  2.65330661e+00,  2.67134269e+00,\n",
              "        2.68937876e+00,  2.70741483e+00,  2.72545090e+00,  2.74348697e+00,\n",
              "        2.76152305e+00,  2.77955912e+00,  2.79759519e+00,  2.81563126e+00,\n",
              "        2.83366733e+00,  2.85170341e+00,  2.86973948e+00,  2.88777555e+00,\n",
              "        2.90581162e+00,  2.92384770e+00,  2.94188377e+00,  2.95991984e+00,\n",
              "        2.97795591e+00,  2.99599198e+00,  3.01402806e+00,  3.03206413e+00,\n",
              "        3.05010020e+00,  3.06813627e+00,  3.08617234e+00,  3.10420842e+00,\n",
              "        3.12224449e+00,  3.14028056e+00,  3.15831663e+00,  3.17635271e+00,\n",
              "        3.19438878e+00,  3.21242485e+00,  3.23046092e+00,  3.24849699e+00,\n",
              "        3.26653307e+00,  3.28456914e+00,  3.30260521e+00,  3.32064128e+00,\n",
              "        3.33867735e+00,  3.35671343e+00,  3.37474950e+00,  3.39278557e+00,\n",
              "        3.41082164e+00,  3.42885772e+00,  3.44689379e+00,  3.46492986e+00,\n",
              "        3.48296593e+00,  3.50100200e+00,  3.51903808e+00,  3.53707415e+00,\n",
              "        3.55511022e+00,  3.57314629e+00,  3.59118236e+00,  3.60921844e+00,\n",
              "        3.62725451e+00,  3.64529058e+00,  3.66332665e+00,  3.68136273e+00,\n",
              "        3.69939880e+00,  3.71743487e+00,  3.73547094e+00,  3.75350701e+00,\n",
              "        3.77154309e+00,  3.78957916e+00,  3.80761523e+00,  3.82565130e+00,\n",
              "        3.84368737e+00,  3.86172345e+00,  3.87975952e+00,  3.89779559e+00,\n",
              "        3.91583166e+00,  3.93386774e+00,  3.95190381e+00,  3.96993988e+00,\n",
              "        3.98797595e+00,  4.00601202e+00,  4.02404810e+00,  4.04208417e+00,\n",
              "        4.06012024e+00,  4.07815631e+00,  4.09619238e+00,  4.11422846e+00,\n",
              "        4.13226453e+00,  4.15030060e+00,  4.16833667e+00,  4.18637275e+00,\n",
              "        4.20440882e+00,  4.22244489e+00,  4.24048096e+00,  4.25851703e+00,\n",
              "        4.27655311e+00,  4.29458918e+00,  4.31262525e+00,  4.33066132e+00,\n",
              "        4.34869739e+00,  4.36673347e+00,  4.38476954e+00,  4.40280561e+00,\n",
              "        4.42084168e+00,  4.43887776e+00,  4.45691383e+00,  4.47494990e+00,\n",
              "        4.49298597e+00,  4.51102204e+00,  4.52905812e+00,  4.54709419e+00,\n",
              "        4.56513026e+00,  4.58316633e+00,  4.60120240e+00,  4.61923848e+00,\n",
              "        4.63727455e+00,  4.65531062e+00,  4.67334669e+00,  4.69138277e+00,\n",
              "        4.70941884e+00,  4.72745491e+00,  4.74549098e+00,  4.76352705e+00,\n",
              "        4.78156313e+00,  4.79959920e+00,  4.81763527e+00,  4.83567134e+00,\n",
              "        4.85370741e+00,  4.87174349e+00,  4.88977956e+00,  4.90781563e+00,\n",
              "        4.92585170e+00,  4.94388778e+00,  4.96192385e+00,  4.97995992e+00,\n",
              "        4.99799599e+00,  5.01603206e+00,  5.03406814e+00,  5.05210421e+00,\n",
              "        5.07014028e+00,  5.08817635e+00,  5.10621242e+00,  5.12424850e+00,\n",
              "        5.14228457e+00,  5.16032064e+00,  5.17835671e+00,  5.19639279e+00,\n",
              "        5.21442886e+00,  5.23246493e+00,  5.25050100e+00,  5.26853707e+00,\n",
              "        5.28657315e+00,  5.30460922e+00,  5.32264529e+00,  5.34068136e+00,\n",
              "        5.35871743e+00,  5.37675351e+00,  5.39478958e+00,  5.41282565e+00,\n",
              "        5.43086172e+00,  5.44889780e+00,  5.46693387e+00,  5.48496994e+00,\n",
              "        5.50300601e+00,  5.52104208e+00,  5.53907816e+00,  5.55711423e+00,\n",
              "        5.57515030e+00,  5.59318637e+00,  5.61122244e+00,  5.62925852e+00,\n",
              "        5.64729459e+00,  5.66533066e+00,  5.68336673e+00,  5.70140281e+00,\n",
              "        5.71943888e+00,  5.73747495e+00,  5.75551102e+00,  5.77354709e+00,\n",
              "        5.79158317e+00,  5.80961924e+00,  5.82765531e+00,  5.84569138e+00,\n",
              "        5.86372745e+00,  5.88176353e+00,  5.89979960e+00,  5.91783567e+00,\n",
              "        5.93587174e+00,  5.95390782e+00,  5.97194389e+00,  5.98997996e+00,\n",
              "        6.00801603e+00,  6.02605210e+00,  6.04408818e+00,  6.06212425e+00,\n",
              "        6.08016032e+00,  6.09819639e+00,  6.11623246e+00,  6.13426854e+00,\n",
              "        6.15230461e+00,  6.17034068e+00,  6.18837675e+00,  6.20641283e+00,\n",
              "        6.22444890e+00,  6.24248497e+00,  6.26052104e+00,  6.27855711e+00,\n",
              "        6.29659319e+00,  6.31462926e+00,  6.33266533e+00,  6.35070140e+00,\n",
              "        6.36873747e+00,  6.38677355e+00,  6.40480962e+00,  6.42284569e+00,\n",
              "        6.44088176e+00,  6.45891784e+00,  6.47695391e+00,  6.49498998e+00,\n",
              "        6.51302605e+00,  6.53106212e+00,  6.54909820e+00,  6.56713427e+00,\n",
              "        6.58517034e+00,  6.60320641e+00,  6.62124248e+00,  6.63927856e+00,\n",
              "        6.65731463e+00,  6.67535070e+00,  6.69338677e+00,  6.71142285e+00,\n",
              "        6.72945892e+00,  6.74749499e+00,  6.76553106e+00,  6.78356713e+00,\n",
              "        6.80160321e+00,  6.81963928e+00,  6.83767535e+00,  6.85571142e+00,\n",
              "        6.87374749e+00,  6.89178357e+00,  6.90981964e+00,  6.92785571e+00,\n",
              "        6.94589178e+00,  6.96392786e+00,  6.98196393e+00,  7.00000000e+00])"
            ]
          },
          "metadata": {},
          "execution_count": 13
        }
      ]
    },
    {
      "cell_type": "code",
      "source": [
        "fx(x)"
      ],
      "metadata": {
        "colab": {
          "base_uri": "https://localhost:8080/"
        },
        "id": "8__jycvP7O7v",
        "outputId": "3d58275c-6c55-49ef-f096-0a974ed2929f"
      },
      "execution_count": 14,
      "outputs": [
        {
          "output_type": "execute_result",
          "data": {
            "text/plain": [
              "array([-2.50000000e+00, -2.41900033e+00, -2.33832595e+00, -2.25797688e+00,\n",
              "       -2.17795310e+00, -2.09825463e+00, -2.01888145e+00, -1.93983357e+00,\n",
              "       -1.86111100e+00, -1.78271372e+00, -1.70464175e+00, -1.62689507e+00,\n",
              "       -1.54947370e+00, -1.47237762e+00, -1.39560684e+00, -1.31916137e+00,\n",
              "       -1.24304119e+00, -1.16724632e+00, -1.09177674e+00, -1.01663246e+00,\n",
              "       -9.41813487e-01, -8.67319810e-01, -7.93151433e-01, -7.19308356e-01,\n",
              "       -6.45790579e-01, -5.72598102e-01, -4.99730925e-01, -4.27189047e-01,\n",
              "       -3.54972470e-01, -2.83081192e-01, -2.11515215e-01, -1.40274537e-01,\n",
              "       -6.93591592e-02,  1.23091875e-03,  7.14956968e-02,  1.41435175e-01,\n",
              "        2.11049353e-01,  2.80338232e-01,  3.49301810e-01,  4.17940089e-01,\n",
              "        4.86253067e-01,  5.54240746e-01,  6.21903125e-01,  6.89240204e-01,\n",
              "        7.56251983e-01,  8.22938462e-01,  8.89299641e-01,  9.55335521e-01,\n",
              "        1.02104610e+00,  1.08643138e+00,  1.15149136e+00,  1.21622604e+00,\n",
              "        1.28063542e+00,  1.34471950e+00,  1.40847828e+00,  1.47191176e+00,\n",
              "        1.53501994e+00,  1.59780282e+00,  1.66026040e+00,  1.72239268e+00,\n",
              "        1.78419966e+00,  1.84568134e+00,  1.90683772e+00,  1.96766880e+00,\n",
              "        2.02817459e+00,  2.08835507e+00,  2.14821025e+00,  2.20774013e+00,\n",
              "        2.26694471e+00,  2.32582399e+00,  2.38437797e+00,  2.44260666e+00,\n",
              "        2.50051004e+00,  2.55808812e+00,  2.61534090e+00,  2.67226838e+00,\n",
              "        2.72887057e+00,  2.78514745e+00,  2.84109903e+00,  2.89672531e+00,\n",
              "        2.95202630e+00,  3.00700198e+00,  3.06165236e+00,  3.11597745e+00,\n",
              "        3.16997723e+00,  3.22365171e+00,  3.27700090e+00,  3.33002478e+00,\n",
              "        3.38272336e+00,  3.43509665e+00,  3.48714463e+00,  3.53886731e+00,\n",
              "        3.59026470e+00,  3.64133678e+00,  3.69208357e+00,  3.74250505e+00,\n",
              "        3.79260123e+00,  3.84237212e+00,  3.89181770e+00,  3.94093799e+00,\n",
              "        3.98973297e+00,  4.03820266e+00,  4.08634704e+00,  4.13416613e+00,\n",
              "        4.18165991e+00,  4.22882840e+00,  4.27567158e+00,  4.32218947e+00,\n",
              "        4.36838205e+00,  4.41424934e+00,  4.45979133e+00,  4.50500801e+00,\n",
              "        4.54989940e+00,  4.59446548e+00,  4.63870627e+00,  4.68262176e+00,\n",
              "        4.72621194e+00,  4.76947683e+00,  4.81241642e+00,  4.85503070e+00,\n",
              "        4.89731969e+00,  4.93928338e+00,  4.98092176e+00,  5.02223485e+00,\n",
              "        5.06322264e+00,  5.10388512e+00,  5.14422231e+00,  5.18423420e+00,\n",
              "        5.22392079e+00,  5.26328208e+00,  5.30231806e+00,  5.34102875e+00,\n",
              "        5.37941414e+00,  5.41747423e+00,  5.45520902e+00,  5.49261850e+00,\n",
              "        5.52970269e+00,  5.56646158e+00,  5.60289517e+00,  5.63900346e+00,\n",
              "        5.67478645e+00,  5.71024414e+00,  5.74537652e+00,  5.78018361e+00,\n",
              "        5.81466540e+00,  5.84882189e+00,  5.88265308e+00,  5.91615897e+00,\n",
              "        5.94933956e+00,  5.98219485e+00,  6.01472484e+00,  6.04692953e+00,\n",
              "        6.07880892e+00,  6.11036301e+00,  6.14159180e+00,  6.17249529e+00,\n",
              "        6.20307348e+00,  6.23332637e+00,  6.26325396e+00,  6.29285625e+00,\n",
              "        6.32213324e+00,  6.35108494e+00,  6.37971133e+00,  6.40801242e+00,\n",
              "        6.43598821e+00,  6.46363870e+00,  6.49096389e+00,  6.51796378e+00,\n",
              "        6.54463837e+00,  6.57098767e+00,  6.59701166e+00,  6.62271035e+00,\n",
              "        6.64808374e+00,  6.67313183e+00,  6.69785463e+00,  6.72225212e+00,\n",
              "        6.74632431e+00,  6.77007120e+00,  6.79349280e+00,  6.81658909e+00,\n",
              "        6.83936008e+00,  6.86180578e+00,  6.88392617e+00,  6.90572126e+00,\n",
              "        6.92719106e+00,  6.94833555e+00,  6.96915474e+00,  6.98964864e+00,\n",
              "        7.00981723e+00,  7.02966052e+00,  7.04917852e+00,  7.06837121e+00,\n",
              "        7.08723861e+00,  7.10578070e+00,  7.12399749e+00,  7.14188899e+00,\n",
              "        7.15945518e+00,  7.17669608e+00,  7.19361167e+00,  7.21020197e+00,\n",
              "        7.22646696e+00,  7.24240666e+00,  7.25802105e+00,  7.27331015e+00,\n",
              "        7.28827394e+00,  7.30291244e+00,  7.31722563e+00,  7.33121353e+00,\n",
              "        7.34487612e+00,  7.35821342e+00,  7.37122542e+00,  7.38391211e+00,\n",
              "        7.39627351e+00,  7.40830961e+00,  7.42002040e+00,  7.43140590e+00,\n",
              "        7.44246609e+00,  7.45320099e+00,  7.46361059e+00,  7.47369488e+00,\n",
              "        7.48345388e+00,  7.49288758e+00,  7.50199598e+00,  7.51077907e+00,\n",
              "        7.51923687e+00,  7.52736937e+00,  7.53517657e+00,  7.54265846e+00,\n",
              "        7.54981506e+00,  7.55664636e+00,  7.56315236e+00,  7.56933305e+00,\n",
              "        7.57518845e+00,  7.58071855e+00,  7.58592335e+00,  7.59080285e+00,\n",
              "        7.59535705e+00,  7.59958595e+00,  7.60348954e+00,  7.60706784e+00,\n",
              "        7.61032084e+00,  7.61324854e+00,  7.61585094e+00,  7.61812804e+00,\n",
              "        7.62007984e+00,  7.62170634e+00,  7.62300754e+00,  7.62398344e+00,\n",
              "        7.62463404e+00,  7.62495934e+00,  7.62495934e+00,  7.62463404e+00,\n",
              "        7.62398344e+00,  7.62300754e+00,  7.62170634e+00,  7.62007984e+00,\n",
              "        7.61812804e+00,  7.61585094e+00,  7.61324854e+00,  7.61032084e+00,\n",
              "        7.60706784e+00,  7.60348954e+00,  7.59958595e+00,  7.59535705e+00,\n",
              "        7.59080285e+00,  7.58592335e+00,  7.58071855e+00,  7.57518845e+00,\n",
              "        7.56933305e+00,  7.56315236e+00,  7.55664636e+00,  7.54981506e+00,\n",
              "        7.54265846e+00,  7.53517657e+00,  7.52736937e+00,  7.51923687e+00,\n",
              "        7.51077907e+00,  7.50199598e+00,  7.49288758e+00,  7.48345388e+00,\n",
              "        7.47369488e+00,  7.46361059e+00,  7.45320099e+00,  7.44246609e+00,\n",
              "        7.43140590e+00,  7.42002040e+00,  7.40830961e+00,  7.39627351e+00,\n",
              "        7.38391211e+00,  7.37122542e+00,  7.35821342e+00,  7.34487612e+00,\n",
              "        7.33121353e+00,  7.31722563e+00,  7.30291244e+00,  7.28827394e+00,\n",
              "        7.27331015e+00,  7.25802105e+00,  7.24240666e+00,  7.22646696e+00,\n",
              "        7.21020197e+00,  7.19361167e+00,  7.17669608e+00,  7.15945518e+00,\n",
              "        7.14188899e+00,  7.12399749e+00,  7.10578070e+00,  7.08723861e+00,\n",
              "        7.06837121e+00,  7.04917852e+00,  7.02966052e+00,  7.00981723e+00,\n",
              "        6.98964864e+00,  6.96915474e+00,  6.94833555e+00,  6.92719106e+00,\n",
              "        6.90572126e+00,  6.88392617e+00,  6.86180578e+00,  6.83936008e+00,\n",
              "        6.81658909e+00,  6.79349280e+00,  6.77007120e+00,  6.74632431e+00,\n",
              "        6.72225212e+00,  6.69785463e+00,  6.67313183e+00,  6.64808374e+00,\n",
              "        6.62271035e+00,  6.59701166e+00,  6.57098767e+00,  6.54463837e+00,\n",
              "        6.51796378e+00,  6.49096389e+00,  6.46363870e+00,  6.43598821e+00,\n",
              "        6.40801242e+00,  6.37971133e+00,  6.35108494e+00,  6.32213324e+00,\n",
              "        6.29285625e+00,  6.26325396e+00,  6.23332637e+00,  6.20307348e+00,\n",
              "        6.17249529e+00,  6.14159180e+00,  6.11036301e+00,  6.07880892e+00,\n",
              "        6.04692953e+00,  6.01472484e+00,  5.98219485e+00,  5.94933956e+00,\n",
              "        5.91615897e+00,  5.88265308e+00,  5.84882189e+00,  5.81466540e+00,\n",
              "        5.78018361e+00,  5.74537652e+00,  5.71024414e+00,  5.67478645e+00,\n",
              "        5.63900346e+00,  5.60289517e+00,  5.56646158e+00,  5.52970269e+00,\n",
              "        5.49261850e+00,  5.45520902e+00,  5.41747423e+00,  5.37941414e+00,\n",
              "        5.34102875e+00,  5.30231806e+00,  5.26328208e+00,  5.22392079e+00,\n",
              "        5.18423420e+00,  5.14422231e+00,  5.10388512e+00,  5.06322264e+00,\n",
              "        5.02223485e+00,  4.98092176e+00,  4.93928338e+00,  4.89731969e+00,\n",
              "        4.85503070e+00,  4.81241642e+00,  4.76947683e+00,  4.72621194e+00,\n",
              "        4.68262176e+00,  4.63870627e+00,  4.59446548e+00,  4.54989940e+00,\n",
              "        4.50500801e+00,  4.45979133e+00,  4.41424934e+00,  4.36838205e+00,\n",
              "        4.32218947e+00,  4.27567158e+00,  4.22882840e+00,  4.18165991e+00,\n",
              "        4.13416613e+00,  4.08634704e+00,  4.03820266e+00,  3.98973297e+00,\n",
              "        3.94093799e+00,  3.89181770e+00,  3.84237212e+00,  3.79260123e+00,\n",
              "        3.74250505e+00,  3.69208357e+00,  3.64133678e+00,  3.59026470e+00,\n",
              "        3.53886731e+00,  3.48714463e+00,  3.43509665e+00,  3.38272336e+00,\n",
              "        3.33002478e+00,  3.27700090e+00,  3.22365171e+00,  3.16997723e+00,\n",
              "        3.11597745e+00,  3.06165236e+00,  3.00700198e+00,  2.95202630e+00,\n",
              "        2.89672531e+00,  2.84109903e+00,  2.78514745e+00,  2.72887057e+00,\n",
              "        2.67226838e+00,  2.61534090e+00,  2.55808812e+00,  2.50051004e+00,\n",
              "        2.44260666e+00,  2.38437797e+00,  2.32582399e+00,  2.26694471e+00,\n",
              "        2.20774013e+00,  2.14821025e+00,  2.08835507e+00,  2.02817459e+00,\n",
              "        1.96766880e+00,  1.90683772e+00,  1.84568134e+00,  1.78419966e+00,\n",
              "        1.72239268e+00,  1.66026040e+00,  1.59780282e+00,  1.53501994e+00,\n",
              "        1.47191176e+00,  1.40847828e+00,  1.34471950e+00,  1.28063542e+00,\n",
              "        1.21622604e+00,  1.15149136e+00,  1.08643138e+00,  1.02104610e+00,\n",
              "        9.55335521e-01,  8.89299641e-01,  8.22938462e-01,  7.56251983e-01,\n",
              "        6.89240204e-01,  6.21903125e-01,  5.54240746e-01,  4.86253067e-01,\n",
              "        4.17940089e-01,  3.49301810e-01,  2.80338232e-01,  2.11049353e-01,\n",
              "        1.41435175e-01,  7.14956968e-02,  1.23091875e-03, -6.93591592e-02,\n",
              "       -1.40274537e-01, -2.11515215e-01, -2.83081192e-01, -3.54972470e-01,\n",
              "       -4.27189047e-01, -4.99730925e-01, -5.72598102e-01, -6.45790579e-01,\n",
              "       -7.19308356e-01, -7.93151433e-01, -8.67319810e-01, -9.41813487e-01,\n",
              "       -1.01663246e+00, -1.09177674e+00, -1.16724632e+00, -1.24304119e+00,\n",
              "       -1.31916137e+00, -1.39560684e+00, -1.47237762e+00, -1.54947370e+00,\n",
              "       -1.62689507e+00, -1.70464175e+00, -1.78271372e+00, -1.86111100e+00,\n",
              "       -1.93983357e+00, -2.01888145e+00, -2.09825463e+00, -2.17795310e+00,\n",
              "       -2.25797688e+00, -2.33832595e+00, -2.41900033e+00, -2.50000000e+00])"
            ]
          },
          "metadata": {},
          "execution_count": 14
        }
      ]
    },
    {
      "cell_type": "code",
      "source": [
        "x_arr=fx(x)"
      ],
      "metadata": {
        "id": "i1pkwqrT7WKv"
      },
      "execution_count": 15,
      "outputs": []
    },
    {
      "cell_type": "code",
      "source": [
        "plt.plot(x,x_arr)\n",
        "plt.axhline(0,alpha=0.5)"
      ],
      "metadata": {
        "colab": {
          "base_uri": "https://localhost:8080/",
          "height": 449
        },
        "id": "JC3OS6ak7ZBz",
        "outputId": "10c1aac4-1765-4e43-c450-094eee16348b"
      },
      "execution_count": 16,
      "outputs": [
        {
          "output_type": "execute_result",
          "data": {
            "text/plain": [
              "<matplotlib.lines.Line2D at 0x78e535d734a0>"
            ]
          },
          "metadata": {},
          "execution_count": 16
        },
        {
          "output_type": "display_data",
          "data": {
            "text/plain": [
              "<Figure size 640x480 with 1 Axes>"
            ],
            "image/png": "[encoded data removed]"
          },
          "metadata": {}
        }
      ]
    }
  ]
}